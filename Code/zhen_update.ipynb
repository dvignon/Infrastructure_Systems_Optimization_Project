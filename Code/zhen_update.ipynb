{
 "cells": [
  {
   "cell_type": "code",
   "execution_count": 1,
   "metadata": {
    "collapsed": true
   },
   "outputs": [],
   "source": [
    "#Python libraries\n",
    "from pyomo.environ import * \n",
    "# Pyomo library for solving a problem\n",
    "from pyomo.opt import SolverFactory\n",
    "# Pyomo library for checking the solver statuse \n",
    "from pyomo.opt import SolverStatus, TerminationCondition\n",
    "#panda is a useful data manipulation library\n",
    "import numpy as np\n",
    "import pandas as pd\n",
    "import networkx as nx\n",
    "import pylab as plt\n",
    "from scipy import sparse\n",
    "from sys import getsizeof"
   ]
  },
  {
   "cell_type": "code",
   "execution_count": 2,
   "metadata": {
    "collapsed": true
   },
   "outputs": [],
   "source": [
    "#Homemade functions\n",
    "from getParam import getParam\n",
    "from getDemand import getDemand\n",
    "from objRule import objRule\n",
    "from flowBalRule import flowBalRule\n",
    "from flowLinkRule import flowLinkRule\n",
    "from costLinkRule import costLinkRule\n",
    "\n",
    "\n",
    "filenameNet = \"Data/SiouxFalls/SiouxFalls_net.tntp\"\n",
    "\n",
    "param,A,M,N,L = getParam(filenameNet)\n",
    "\n",
    "filenameTrip = \"Data/SiouxFalls/SiouxFalls_trips.tntp\"\n",
    "\n",
    "d, OD_pair = getDemand(filenameTrip,L)"
   ]
  },
  {
   "cell_type": "code",
   "execution_count": 4,
   "metadata": {},
   "outputs": [
    {
     "data": {
      "text/plain": [
       "{0: [(0, 1), (1, 1), (2, -1), (4, -1)],\n",
       " 1: [(0, -1), (2, 1), (3, 1), (13, -1)],\n",
       " 2: [(1, -1), (4, 1), (5, 1), (6, 1), (7, -1), (34, -1)],\n",
       " 3: [(5, -1), (7, 1), (8, 1), (9, 1), (10, -1), (30, -1)],\n",
       " 4: [(8, -1), (10, 1), (11, 1), (12, 1), (14, -1), (22, -1)],\n",
       " 5: [(3, -1), (11, -1), (13, 1), (14, 1), (15, 1), (18, -1)],\n",
       " 6: [(16, 1), (17, 1), (19, -1), (53, -1)],\n",
       " 7: [(15, -1),\n",
       "  (16, -1),\n",
       "  (18, 1),\n",
       "  (19, 1),\n",
       "  (20, 1),\n",
       "  (21, 1),\n",
       "  (23, -1),\n",
       "  (46, -1)],\n",
       " 8: [(12, -1), (20, -1), (22, 1), (23, 1), (24, 1), (25, -1)],\n",
       " 9: [(24, -1),\n",
       "  (25, 1),\n",
       "  (26, 1),\n",
       "  (27, 1),\n",
       "  (28, 1),\n",
       "  (29, 1),\n",
       "  (31, -1),\n",
       "  (42, -1),\n",
       "  (47, -1),\n",
       "  (50, -1)],\n",
       " 10: [(9, -1),\n",
       "  (26, -1),\n",
       "  (30, 1),\n",
       "  (31, 1),\n",
       "  (32, 1),\n",
       "  (33, 1),\n",
       "  (35, -1),\n",
       "  (39, -1)],\n",
       " 11: [(6, -1), (32, -1), (34, 1), (35, 1), (36, 1), (37, -1)],\n",
       " 12: [(36, -1), (37, 1), (38, 1), (73, -1)],\n",
       " 13: [(33, -1), (39, 1), (40, 1), (41, 1), (43, -1), (70, -1)],\n",
       " 14: [(27, -1),\n",
       "  (40, -1),\n",
       "  (42, 1),\n",
       "  (43, 1),\n",
       "  (44, 1),\n",
       "  (45, 1),\n",
       "  (56, -1),\n",
       "  (66, -1)],\n",
       " 15: [(21, -1),\n",
       "  (28, -1),\n",
       "  (46, 1),\n",
       "  (47, 1),\n",
       "  (48, 1),\n",
       "  (49, 1),\n",
       "  (51, -1),\n",
       "  (54, -1)],\n",
       " 16: [(29, -1), (48, -1), (50, 1), (51, 1), (52, 1), (57, -1)],\n",
       " 17: [(17, -1), (49, -1), (53, 1), (54, 1), (55, 1), (59, -1)],\n",
       " 18: [(44, -1), (52, -1), (56, 1), (57, 1), (58, 1), (60, -1)],\n",
       " 19: [(55, -1),\n",
       "  (58, -1),\n",
       "  (59, 1),\n",
       "  (60, 1),\n",
       "  (61, 1),\n",
       "  (62, 1),\n",
       "  (63, -1),\n",
       "  (67, -1)],\n",
       " 20: [(61, -1), (63, 1), (64, 1), (65, 1), (68, -1), (74, -1)],\n",
       " 21: [(45, -1),\n",
       "  (62, -1),\n",
       "  (64, -1),\n",
       "  (66, 1),\n",
       "  (67, 1),\n",
       "  (68, 1),\n",
       "  (69, 1),\n",
       "  (71, -1)],\n",
       " 22: [(41, -1), (69, -1), (70, 1), (71, 1), (72, 1), (75, -1)],\n",
       " 23: [(38, -1), (65, -1), (72, -1), (73, 1), (74, 1), (75, 1)]}"
      ]
     },
     "execution_count": 4,
     "metadata": {},
     "output_type": "execute_result"
    }
   ],
   "source": []
  },
  {
   "cell_type": "code",
   "execution_count": 3,
   "metadata": {},
   "outputs": [
    {
     "ename": "AttributeError",
     "evalue": "'dict' object has no attribute 'shape'",
     "output_type": "error",
     "traceback": [
      "\u001b[1;31m---------------------------------------------------------------------------\u001b[0m",
      "\u001b[1;31mAttributeError\u001b[0m                            Traceback (most recent call last)",
      "\u001b[1;32m<ipython-input-3-0364ece75f6c>\u001b[0m in \u001b[0;36m<module>\u001b[1;34m()\u001b[0m\n\u001b[0;32m      2\u001b[0m \u001b[1;31m# model.links=Set(initialize = (a[0]+1 for a in A))\u001b[0m\u001b[1;33m\u001b[0m\u001b[1;33m\u001b[0m\u001b[0m\n\u001b[0;32m      3\u001b[0m \u001b[0mmodel\u001b[0m\u001b[1;33m.\u001b[0m\u001b[0mlinks\u001b[0m\u001b[1;33m=\u001b[0m\u001b[0mRangeSet\u001b[0m\u001b[1;33m(\u001b[0m\u001b[1;36m0\u001b[0m\u001b[1;33m,\u001b[0m\u001b[0mlen\u001b[0m\u001b[1;33m(\u001b[0m\u001b[0mA\u001b[0m\u001b[1;33m)\u001b[0m\u001b[1;33m-\u001b[0m\u001b[1;36m1\u001b[0m\u001b[1;33m,\u001b[0m\u001b[1;36m1\u001b[0m\u001b[1;33m)\u001b[0m\u001b[1;33m\u001b[0m\u001b[0m\n\u001b[1;32m----> 4\u001b[1;33m \u001b[0mmodel\u001b[0m\u001b[1;33m.\u001b[0m\u001b[0mod\u001b[0m\u001b[1;33m=\u001b[0m\u001b[0mRangeSet\u001b[0m\u001b[1;33m(\u001b[0m\u001b[1;36m0\u001b[0m\u001b[1;33m,\u001b[0m\u001b[0mM\u001b[0m\u001b[1;33m.\u001b[0m\u001b[0mshape\u001b[0m\u001b[1;33m[\u001b[0m\u001b[1;36m1\u001b[0m\u001b[1;33m]\u001b[0m\u001b[1;33m-\u001b[0m\u001b[1;36m1\u001b[0m\u001b[1;33m,\u001b[0m\u001b[1;36m1\u001b[0m\u001b[1;33m)\u001b[0m\u001b[1;33m\u001b[0m\u001b[0m\n\u001b[0m\u001b[0;32m      5\u001b[0m \u001b[0mmodel\u001b[0m\u001b[1;33m.\u001b[0m\u001b[0mnodes\u001b[0m\u001b[1;33m=\u001b[0m\u001b[0mRangeSet\u001b[0m\u001b[1;33m(\u001b[0m\u001b[1;36m0\u001b[0m\u001b[1;33m,\u001b[0m\u001b[0mM\u001b[0m\u001b[1;33m.\u001b[0m\u001b[0mshape\u001b[0m\u001b[1;33m[\u001b[0m\u001b[1;36m0\u001b[0m\u001b[1;33m]\u001b[0m\u001b[1;33m-\u001b[0m\u001b[1;36m1\u001b[0m\u001b[1;33m,\u001b[0m\u001b[1;36m1\u001b[0m\u001b[1;33m)\u001b[0m\u001b[1;33m\u001b[0m\u001b[0m\n\u001b[0;32m      6\u001b[0m \u001b[0mmodel\u001b[0m\u001b[1;33m.\u001b[0m\u001b[0mf\u001b[0m\u001b[1;33m=\u001b[0m\u001b[0mVar\u001b[0m\u001b[1;33m(\u001b[0m\u001b[0mmodel\u001b[0m\u001b[1;33m.\u001b[0m\u001b[0mlinks\u001b[0m\u001b[1;33m,\u001b[0m\u001b[0mwithin\u001b[0m\u001b[1;33m=\u001b[0m\u001b[0mNonNegativeReals\u001b[0m\u001b[1;33m)\u001b[0m\u001b[1;33m\u001b[0m\u001b[0m\n",
      "\u001b[1;31mAttributeError\u001b[0m: 'dict' object has no attribute 'shape'"
     ]
    }
   ],
   "source": [
    "model=ConcreteModel()\n",
    "# model.links=Set(initialize = (a[0]+1 for a in A))\n",
    "model.links=RangeSet(0,len(A)-1,1)\n",
    "model.od=RangeSet(0,M.shape[1]-1,1)\n",
    "model.nodes=RangeSet(0,M.shape[0]-1,1)\n",
    "model.f=Var(model.links,within=NonNegativeReals)\n",
    "model.fk=Var(model.links,model.od,within=NonNegativeReals)\n",
    "model.c=Var(model.links,within=NonNegativeReals)\n",
    "# model.t0 = Param(initialize=param['t_0'])"
   ]
  },
  {
   "cell_type": "code",
   "execution_count": null,
   "metadata": {},
   "outputs": [],
   "source": [
    "model.obj = Objective(expr=objRule(model))"
   ]
  },
  {
   "cell_type": "code",
   "execution_count": null,
   "metadata": {
    "collapsed": true
   },
   "outputs": [],
   "source": [
    "model.pprint()"
   ]
  },
  {
   "cell_type": "code",
   "execution_count": null,
   "metadata": {
    "collapsed": true
   },
   "outputs": [],
   "source": [
    "model.flowBal =  ConstraintList()\n",
    "for i in model.nodes:\n",
    "    for k in model.od:\n",
    "        model.flowBal.add(flowBalRule(model,d,M,i,k))\n",
    "#Constraint(model.nodes,model.od, expr=flowBalRule(model,d,M,i,k) for i in model.nodes for k in model.od)"
   ]
  },
  {
   "cell_type": "code",
   "execution_count": null,
   "metadata": {
    "collapsed": true
   },
   "outputs": [],
   "source": [
    "model.flowLink =  ConstraintList()\n",
    "model.costLink = ConstraintList()\n",
    "for a in model.links:\n",
    "    model.flowLink.add(flowLinkRule(model,a))\n",
    "    model.costLink.add(costLinkRule(model,param,a))\n",
    "#model.flowLink = Constraint(model.links, rule=flowLinkRule)"
   ]
  },
  {
   "cell_type": "code",
   "execution_count": null,
   "metadata": {
    "collapsed": true
   },
   "outputs": [],
   "source": []
  },
  {
   "cell_type": "code",
   "execution_count": null,
   "metadata": {
    "collapsed": true
   },
   "outputs": [],
   "source": [
    "model.pprint()"
   ]
  },
  {
   "cell_type": "code",
   "execution_count": null,
   "metadata": {},
   "outputs": [],
   "source": [
    "opt = SolverFactory(\"ipopt\")\n",
    "\n",
    "#opt.options[\"mipgap\"] = 0.05\n",
    "#store the results \n",
    "results = opt.solve(model)\n",
    "print(results)"
   ]
  },
  {
   "cell_type": "code",
   "execution_count": null,
   "metadata": {},
   "outputs": [],
   "source": [
    "model.display()"
   ]
  },
  {
   "cell_type": "code",
   "execution_count": null,
   "metadata": {},
   "outputs": [],
   "source": []
  }
 ],
 "metadata": {
  "kernelspec": {
   "display_name": "Python 3",
   "language": "python",
   "name": "python3"
  },
  "language_info": {
   "codemirror_mode": {
    "name": "ipython",
    "version": 3
   },
   "file_extension": ".py",
   "mimetype": "text/x-python",
   "name": "python",
   "nbconvert_exporter": "python",
   "pygments_lexer": "ipython3",
   "version": "3.6.2"
  }
 },
 "nbformat": 4,
 "nbformat_minor": 2
}
