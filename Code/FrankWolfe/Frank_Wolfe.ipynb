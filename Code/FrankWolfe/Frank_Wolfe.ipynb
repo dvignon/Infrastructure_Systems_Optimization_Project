{
 "cells": [
  {
   "cell_type": "code",
   "execution_count": 1,
   "metadata": {},
   "outputs": [],
   "source": [
    "from scipy import sparse\n",
    "import numpy as np\n",
    "import pandas as pd\n",
    "import time"
   ]
  },
  {
   "cell_type": "code",
   "execution_count": 2,
   "metadata": {},
   "outputs": [],
   "source": [
    "from getParam import getParam\n",
    "from getDemand import getDemand"
   ]
  },
  {
   "cell_type": "code",
   "execution_count": 3,
   "metadata": {},
   "outputs": [],
   "source": [
    "#filenameNet = \"Data/Anaheim/Anaheim_net.tntp\"\n",
    "filenameNet = \"Data/SiouxFalls/SiouxFalls_net.tntp\"\n",
    "param,A,M,N,L = getParam(filenameNet)\n",
    "\n",
    "#filenameTrip = \"Data/Anaheim/Anaheim_trips.tntp\"\n",
    "filenameTrip = \"Data/SiouxFalls/SiouxFalls_trips.tntp\"\n",
    "\n",
    "d, OD_pair= getDemand(filenameTrip,L)"
   ]
  },
  {
   "cell_type": "code",
   "execution_count": null,
   "metadata": {},
   "outputs": [],
   "source": [
    "def cost_fun(param,f,L):\n",
    "    return sum(param['t_0'][a]*f[a]*(1+ param['beta'][a]/(param['alpha'][a]+1)*(f[a]/param['C'][a])**param['alpha'][a]) for a in range(L))\n",
    "\n",
    "def line_search_fun(alpha,d,x):\n",
    "    return cost_fun(param,x+alpha*d,L)\n",
    "    "
   ]
  },
  {
   "cell_type": "code",
   "execution_count": null,
   "metadata": {},
   "outputs": [],
   "source": [
    "def grad_fun(param,f,L):\n",
    "    gradf = np.zeros((L,1))\n",
    "    for a in range(L):\n",
    "        gradf[a,0] = param['t_0'][a]*(1+param['beta'][a]*(f[a]/param['C'][a])**param['alpha'][a])\n",
    "        \n",
    "    return gradf"
   ]
  },
  {
   "cell_type": "code",
   "execution_count": null,
   "metadata": {},
   "outputs": [],
   "source": [
    "n_Iter = 100;\n",
    "f0 = ;\n",
    "objfun = lambda f: sum(param['t_0'][a]*f[a]*(1+ param['beta'][a]/(param['alpha'][a]+1)*(f[a]/param['C'][a])**param['alpha'][a]) for a in range(L))\n",
    "cons = lambda f: \n",
    "for k = 1:n_Iter:\n",
    "    gradf = gradfun(param,f0,L)\n",
    "    \n",
    "    linesearch_fun = lambda alpha: objfun(f-alpha*dk)"
   ]
  }
 ],
 "metadata": {
  "kernelspec": {
   "display_name": "Python 3",
   "language": "python",
   "name": "python3"
  },
  "language_info": {
   "codemirror_mode": {
    "name": "ipython",
    "version": 3
   },
   "file_extension": ".py",
   "mimetype": "text/x-python",
   "name": "python",
   "nbconvert_exporter": "python",
   "pygments_lexer": "ipython3",
   "version": "3.6.1"
  }
 },
 "nbformat": 4,
 "nbformat_minor": 2
}
