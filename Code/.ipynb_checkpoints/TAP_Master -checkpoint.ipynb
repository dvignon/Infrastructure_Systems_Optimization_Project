{
 "cells": [
  {
   "cell_type": "markdown",
   "metadata": {},
   "source": [
    "# Problem formulation\n",
    "\n",
    "**_Sets_**\n",
    "\n",
    "$\\mathscr{N}$ = Set of nodes <br>\n",
    "$\\mathscr{A}$ = Set of links <br>\n",
    "$\\mathscr{K}$ = Set of O-D pairs <br>\n",
    "\n",
    "**_Parameters_**\n",
    "\n",
    "$\\beta_{ij}$ = Parameter of BPR function, $\\forall (i,j) \\in \\mathscr{A}$ <br>\n",
    "$t^0_{ij}$ = Free-flow travel time, $\\forall (i,j) \\in \\mathscr{A}$ <br>\n",
    "$\\alpha_{ij}$ = Power in BPR function, $\\forall (i,j) \\in \\mathscr{A}$ <br>\n",
    "$c_{ij}$ = Capacity of link, $\\forall (i,j) \\in \\mathscr{A}$ <br>\n",
    "$d_{ik}$ = Demand for O-D pair $k$ at node $i$, $\\forall i,k \\in \\mathscr{N} \\times \\mathscr{K}$ <br>\n",
    "$M$ = node incidence matrix $(M_{ia})$, $\\forall i,a \\in \\mathscr{N} \\times \\mathscr{A}$ \n",
    "\n",
    "\n",
    "**_Variables_**\n",
    "\n",
    "$f_{ijk}$ = Link flow for O-D pair $k$, $\\forall (i,j), k \\in \\mathscr{A} \\times \\mathscr{K}$  <br>\n",
    "$f_{ij}$ = Total link flow, $\\forall (ij) \\in \\mathscr{A}$\n",
    "\n",
    "From now on, we have: $\\mathbf{a = (i,j)}$\n",
    "\n",
    "**_Objective_**\n",
    "\n",
    "\n",
    "**UE**: $\\min z = \\sum_a t^0_a[\\beta_a \\cdot f_a \\cdot (\\frac{f_a}{c_a})^{\\alpha_a}]$ <br>\n",
    "**SO**: $\\min z = \\sum_a t^0_a[1+\\beta_a\\cdot (\\frac{f_a}{c_a})^{\\alpha_a}] \\cdot f_a$ \n",
    "\n",
    "**_Constraints_**\n",
    "\n",
    "$f_a = \\sum_k f_{ak}$, $\\forall a \\in \\mathscr{A}$ -> Definitional constraints on link flow <br>\n",
    "$M\\cdot(f_{ak}) - (d_{ik}) = 0$, $ \\forall k \\in \\mathscr{K}$ -> Flow balance constraint <br> \n",
    "$f_{ak} \\geq 0$, $\\forall k \\in \\mathscr{K}$ -> Non negativity constraints on link flow \n"
   ]
  },
  {
   "cell_type": "markdown",
   "metadata": {},
   "source": [
    "# Outline\n",
    "\n",
    "# 1. Loading and manipulating the data\n",
    "For *Anaheim_net*:\n",
    "- We need a function that downloads the data and create a list for each of the parameters $\\beta$, $t^0$, $\\alpha$, $c$\n",
    "- We need a function that creates an array **_A_** of tuples for the links using the first two columns. \n",
    "- We need a function that takes **_A_** and creates the (sparse) node incidence matrix **_M_**.\n",
    "\n",
    "For *Anaheim_trips*:\n",
    "- We need a function that creates the (sparse) vector **_dk_** using the above file. \n",
    "\n",
    "# 2. An abstract Pyomo model\n",
    "Here, for this we need: \n",
    "- A definition of each of the model sets and parameters\n",
    "- A definition of the model objective function\n",
    "- A definition of the model constraint functions \n",
    "\n",
    "# 3. A function for solving the model\n",
    "Here, we need a function that will solve take the model and solver options as input and return the solution\n",
    "\n",
    "# 4. A function for results post-processing\n",
    "Here, we need a function that will output the result to the desired format (if we think the Pyomo ouput is not convenient) and <br>\n",
    "a function that will write the results to a specified file format\n",
    "\n",
    "**NOTE**: \n",
    "- Having functions here would make it easier for us to build a class later on which will be helpful when we move to the AV case where we will do a lot of evaluations\n",
    "- We should create each function in a separate .py file. Though we will probably use Jupyter for testing everything, having a .py file for each function helps make <br>\n",
    "    the code modular and eases notebook manipulation"
   ]
  },
  {
   "cell_type": "code",
   "execution_count": 36,
   "metadata": {},
   "outputs": [],
   "source": [
    "#Python libraries\n",
    "from pyomo.environ import *\n",
    "# Pyomo library for solving a problem\n",
    "from pyomo.opt import SolverFactory\n",
    "# Pyomo library for checking the solver statuse \n",
    "from pyomo.opt import SolverStatus, TerminationCondition\n",
    "#panda is a useful data manipulation library\n",
    "import numpy as np\n",
    "import pandas as pd\n",
    "from scipy import sparse\n",
    "from sys import getsizeof\n",
    "import csv"
   ]
  },
  {
   "cell_type": "code",
   "execution_count": 2,
   "metadata": {},
   "outputs": [],
   "source": [
    "#Homemade functions\n",
    "from getParam import getParam"
   ]
  },
  {
   "cell_type": "code",
   "execution_count": 3,
   "metadata": {},
   "outputs": [],
   "source": [
    "filenameNet = \"Data/SiouxFalls/SiouxFalls_net.tntp\""
   ]
  },
  {
   "cell_type": "code",
   "execution_count": 4,
   "metadata": {},
   "outputs": [],
   "source": [
    "param,A,M = getParam(filenameNet)"
   ]
  },
  {
   "cell_type": "code",
   "execution_count": 1,
   "metadata": {},
   "outputs": [],
   "source": [
    "filenameTrip = \"Data/SiouxFalls/SiouxFalls_trips.tntp\""
   ]
  },
  {
   "cell_type": "code",
   "execution_count": 13,
   "metadata": {},
   "outputs": [],
   "source": [
    "n_Origin = 24"
   ]
  },
  {
   "cell_type": "code",
   "execution_count": 19,
   "metadata": {},
   "outputs": [],
   "source": [
    "column_name = \"Origin\\t\" + str(1)"
   ]
  },
  {
   "cell_type": "code",
   "execution_count": 29,
   "metadata": {},
   "outputs": [],
   "source": [
    "param = pd.read_csv(filenameTrip, sep = '\\t', comment = '<')"
   ]
  },
  {
   "cell_type": "code",
   "execution_count": 39,
   "metadata": {},
   "outputs": [
    {
     "ename": "AttributeError",
     "evalue": "'list' object has no attribute 'split'",
     "output_type": "error",
     "traceback": [
      "\u001b[1;31m---------------------------------------------------------------------------\u001b[0m",
      "\u001b[1;31mAttributeError\u001b[0m                            Traceback (most recent call last)",
      "\u001b[1;32m<ipython-input-39-a4082c4ce9d5>\u001b[0m in \u001b[0;36m<module>\u001b[1;34m()\u001b[0m\n\u001b[0;32m      2\u001b[0m     \u001b[0mspamreader\u001b[0m \u001b[1;33m=\u001b[0m \u001b[0mcsv\u001b[0m\u001b[1;33m.\u001b[0m\u001b[0mreader\u001b[0m\u001b[1;33m(\u001b[0m\u001b[0mcsvfile\u001b[0m\u001b[1;33m,\u001b[0m \u001b[0mdelimiter\u001b[0m\u001b[1;33m=\u001b[0m\u001b[1;34m'\\t'\u001b[0m\u001b[1;33m,\u001b[0m \u001b[0mquotechar\u001b[0m\u001b[1;33m=\u001b[0m\u001b[1;34m'<'\u001b[0m\u001b[1;33m)\u001b[0m\u001b[1;33m\u001b[0m\u001b[0m\n\u001b[0;32m      3\u001b[0m     \u001b[1;32mfor\u001b[0m \u001b[0mrow\u001b[0m \u001b[1;32min\u001b[0m \u001b[0mspamreader\u001b[0m\u001b[1;33m:\u001b[0m\u001b[1;33m\u001b[0m\u001b[0m\n\u001b[1;32m----> 4\u001b[1;33m         \u001b[0mrow\u001b[0m\u001b[1;33m.\u001b[0m\u001b[0msplit\u001b[0m\u001b[1;33m(\u001b[0m\u001b[1;34m\";\"\u001b[0m\u001b[1;33m)\u001b[0m\u001b[1;33m\u001b[0m\u001b[0m\n\u001b[0m",
      "\u001b[1;31mAttributeError\u001b[0m: 'list' object has no attribute 'split'"
     ]
    }
   ],
   "source": [
    "with open(filenameTrip, newline='') as csvfile:\n",
    "...     spamreader = csv.reader(csvfile, delimiter='\\t', quotechar='<')\n",
    "...     for row in spamreader:\n",
    "...         "
   ]
  }
 ],
 "metadata": {
  "kernelspec": {
   "display_name": "Python 3",
   "language": "python",
   "name": "python3"
  },
  "language_info": {
   "codemirror_mode": {
    "name": "ipython",
    "version": 3
   },
   "file_extension": ".py",
   "mimetype": "text/x-python",
   "name": "python",
   "nbconvert_exporter": "python",
   "pygments_lexer": "ipython3",
   "version": "3.6.1"
  }
 },
 "nbformat": 4,
 "nbformat_minor": 2
}
