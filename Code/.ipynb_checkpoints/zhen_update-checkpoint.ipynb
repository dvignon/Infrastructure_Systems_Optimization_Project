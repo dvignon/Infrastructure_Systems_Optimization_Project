{
 "cells": [
  {
   "cell_type": "code",
   "execution_count": null,
   "metadata": {
    "collapsed": true
   },
   "outputs": [],
   "source": [
    "#Python libraries\n",
    "from pyomo.environ import *\n",
    "# Pyomo library for solving a problem\n",
    "from pyomo.opt import SolverFactory\n",
    "# Pyomo library for checking the solver statuse \n",
    "from pyomo.opt import SolverStatus, TerminationCondition\n",
    "#panda is a useful data manipulation library\n",
    "import numpy as np\n",
    "import pandas as pd\n",
    "from scipy import sparse\n",
    "from sys import getsizeof"
   ]
  },
  {
   "cell_type": "code",
   "execution_count": null,
   "metadata": {
    "collapsed": true
   },
   "outputs": [],
   "source": [
    "#Homemade functions\n",
    "from getParam import getParam\n",
    "from getDemand import getDemand\n",
    "\n",
    "filenameNet = \"Data/SiouxFalls/SiouxFalls_net.tntp\"\n",
    "\n",
    "param,A,M,N,L = getParam(filenameNet)\n",
    "\n",
    "filenameTrip = \"Data/SiouxFalls/SiouxFalls_trips.tntp\"\n",
    "\n",
    "d, OD_pair = getDemand(filenameTrip,L)"
   ]
  },
  {
   "cell_type": "code",
   "execution_count": null,
   "metadata": {
    "collapsed": true
   },
   "outputs": [],
   "source": [
    "model=ConcreteModel()\n",
    "model.links=range(1,len(A))\n",
    "model.od=range(1,M.shape(1))\n",
    "model.nodes=range(1,M.shape(0))\n",
    "model.f=Var(model.links,within=NonNegativeReals)\n",
    "model.fk=Var(model.links,model.od,within=NonNegativeReals)"
   ]
  },
  {
   "cell_type": "code",
   "execution_count": null,
   "metadata": {
    "collapsed": true
   },
   "outputs": [],
   "source": [
    "model.obj = Objective(rule=objRule)"
   ]
  },
  {
   "cell_type": "code",
   "execution_count": null,
   "metadata": {
    "collapsed": true
   },
   "outputs": [],
   "source": [
    "model.flowBal = Constraint(model.nodes,model.od, rule=flowBalRule)"
   ]
  },
  {
   "cell_type": "code",
   "execution_count": null,
   "metadata": {
    "collapsed": true
   },
   "outputs": [],
   "source": [
    "model.flowLink = Constraint(model.links, rule=flowLinkRule)"
   ]
  },
  {
   "cell_type": "code",
   "execution_count": null,
   "metadata": {
    "collapsed": true
   },
   "outputs": [],
   "source": [
    "model.pprint()"
   ]
  },
  {
   "cell_type": "code",
   "execution_count": null,
   "metadata": {
    "collapsed": true
   },
   "outputs": [],
   "source": [
    "opt = SolverFactory(\"ipopt\")\n",
    "\n",
    "opt.options[\"mipgap\"] = 0.05\n",
    "#store the results \n",
    "results = opt.solve(model)\n",
    "print(results)"
   ]
  }
 ],
 "metadata": {
  "kernelspec": {
   "display_name": "Python 3",
   "language": "python",
   "name": "python3"
  },
  "language_info": {
   "codemirror_mode": {
    "name": "ipython",
    "version": 3
   },
   "file_extension": ".py",
   "mimetype": "text/x-python",
   "name": "python",
   "nbconvert_exporter": "python",
   "pygments_lexer": "ipython3",
   "version": "3.6.2"
  }
 },
 "nbformat": 4,
 "nbformat_minor": 2
}
