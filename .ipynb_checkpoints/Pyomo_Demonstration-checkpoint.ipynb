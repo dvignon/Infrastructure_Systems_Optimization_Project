{
 "cells": [
  {
   "cell_type": "markdown",
   "metadata": {
    "collapsed": true
   },
   "source": [
    "# 1. Pyomo Installation\n",
    "\n",
    "**Install the pyomo package** <br>\n",
    "conda install -c conda-forge pyomo <br>\n",
    "<br>\n",
    "**install IPOPT a linear and mixed integer solver** <br>\n",
    "conda install -q -y --channel cachemeorg ipopt_bin <br>\n",
    "<br>\n",
    "**install glpk a linear and mixed integer solver** <br>\n",
    "conda install -c conda-forge glpk "
   ]
  },
  {
   "cell_type": "markdown",
   "metadata": {},
   "source": [
    "# 2. Creating a model in Pyomo\n",
    "## 2.1 Data Injection Process"
   ]
  },
  {
   "cell_type": "code",
   "execution_count": 2,
   "metadata": {
    "collapsed": true
   },
   "outputs": [],
   "source": [
    "from pyomo.environ import *\n",
    "# Pyomo library for solving a problem\n",
    "from pyomo.opt import SolverFactory\n",
    "# Pyomo library for checking the solver statuse \n",
    "from pyomo.opt import SolverStatus, TerminationCondition\n",
    "#panda is a useful data manipulation library\n",
    "import pandas as pd"
   ]
  },
  {
   "cell_type": "markdown",
   "metadata": {},
   "source": [
    "First we define our data set"
   ]
  },
  {
   "cell_type": "code",
   "execution_count": 3,
   "metadata": {},
   "outputs": [
    {
     "name": "stdout",
     "output_type": "stream",
     "text": [
      "N = 3\n",
      "d =  {(1, 1): 1.7, (1, 2): 7.2, (1, 3): 9.0, (1, 4): 8.3, (2, 1): 2.9, (2, 2): 6.3, (2, 3): 9.8, (2, 4): 0.7, (3, 1): 4.5, (3, 2): 4.8, (3, 3): 4.2, (3, 4): 9.3}\n"
     ]
    }
   ],
   "source": [
    "# input the data both sets and parameters\n",
    "#in concrete models you need to import and define the input parameters\n",
    "N = 3 # set of location\n",
    "M = 4 # set of customers\n",
    "P = 3 #number of facilities to install\n",
    "d = {(1, 1): 1.7, (1, 2): 7.2, (1, 3): 9.0, (1, 4): 8.3,\n",
    "(2, 1): 2.9, (2, 2): 6.3, (2, 3): 9.8, (2, 4): 0.7,\n",
    "(3, 1): 4.5, (3, 2): 4.8, (3, 3): 4.2, (3, 4): 9.3}\n",
    "print('N =',N)\n",
    "print('d = ',d)"
   ]
  },
  {
   "cell_type": "markdown",
   "metadata": {},
   "source": [
    "## 2.2 Model buidling"
   ]
  },
  {
   "cell_type": "markdown",
   "metadata": {},
   "source": [
    "Create an instance of the concrete model"
   ]
  },
  {
   "cell_type": "code",
   "execution_count": 4,
   "metadata": {
    "collapsed": true
   },
   "outputs": [],
   "source": [
    "model = ConcreteModel()"
   ]
  },
  {
   "cell_type": "markdown",
   "metadata": {},
   "source": [
    "Add two sets to your model instance. <br>\n",
    "**Note:** Make sure your range function starts from 1"
   ]
  },
  {
   "cell_type": "code",
   "execution_count": 5,
   "metadata": {
    "collapsed": true
   },
   "outputs": [],
   "source": [
    "model.Locations = range(1,N+1)\n",
    "model.Customers = range(1,M+1)"
   ]
  },
  {
   "cell_type": "markdown",
   "metadata": {},
   "source": [
    "Define variables, their associated range and bounds if needed"
   ]
  },
  {
   "cell_type": "code",
   "execution_count": 6,
   "metadata": {},
   "outputs": [],
   "source": [
    "model.x = Var( model.Locations, model.Customers, bounds=(0.0,1.0) )\n",
    "model.y = Var( model.Locations, within=Binary )"
   ]
  },
  {
   "cell_type": "markdown",
   "metadata": {},
   "source": [
    "Define the objective function equation $z = \\sum^n_1 \\sum^m_1 d_{nm} \\cdot x_{nm}$"
   ]
  },
  {
   "cell_type": "code",
   "execution_count": 7,
   "metadata": {},
   "outputs": [],
   "source": [
    "model.obj = Objective(expr = sum( d[n,m]*model.x[n,m] for n in model.Locations for m in model.Customers ) )"
   ]
  },
  {
   "cell_type": "markdown",
   "metadata": {},
   "source": [
    "Then, define the constraints"
   ]
  },
  {
   "cell_type": "markdown",
   "metadata": {},
   "source": [
    "Define the cosntraints $\\sum_1^n x_{nm}=1$"
   ]
  },
  {
   "cell_type": "code",
   "execution_count": 8,
   "metadata": {},
   "outputs": [],
   "source": [
    "model.single_x = ConstraintList()\n",
    "for m in model.Customers:\n",
    "    model.single_x.add(sum( model.x[n,m] for n in model.Locations ) == 1.0 )"
   ]
  },
  {
   "cell_type": "markdown",
   "metadata": {},
   "source": [
    "Define the constraint $x_{nm} \\leq y_n,$ $\\forall \\ n,m$ "
   ]
  },
  {
   "cell_type": "code",
   "execution_count": 9,
   "metadata": {},
   "outputs": [],
   "source": [
    "model.bound_y = ConstraintList()\n",
    "for n in model.Locations:\n",
    "    for m in model.Customers:\n",
    "        model.bound_y.add( model.x[n,m] <= model.y[n] )"
   ]
  },
  {
   "cell_type": "markdown",
   "metadata": {},
   "source": [
    "Define the constraint $\\sum^n_1 y_n = P$         "
   ]
  },
  {
   "cell_type": "code",
   "execution_count": 10,
   "metadata": {
    "collapsed": true
   },
   "outputs": [],
   "source": [
    "model.num_facilities = Constraint(expr=sum( model.y[n] for n in model.Locations ) == P )"
   ]
  },
  {
   "cell_type": "markdown",
   "metadata": {},
   "source": [
    "Print model equations"
   ]
  },
  {
   "cell_type": "code",
   "execution_count": 11,
   "metadata": {},
   "outputs": [
    {
     "name": "stdout",
     "output_type": "stream",
     "text": [
      "6 Set Declarations\n",
      "    bound_y_index : Dim=0, Dimen=1, Size=12, Domain=None, Ordered=False, Bounds=None\n",
      "        [1, 2, 3, 4, 5, 6, 7, 8, 9, 10, 11, 12]\n",
      "    single_x_index : Dim=0, Dimen=1, Size=4, Domain=None, Ordered=False, Bounds=None\n",
      "        [1, 2, 3, 4]\n",
      "    x_index : Dim=0, Dimen=2, Size=12, Domain=None, Ordered=False, Bounds=None\n",
      "        Virtual\n",
      "    x_index_0 : Dim=0, Dimen=1, Size=3, Domain=None, Ordered=False, Bounds=(1, 3)\n",
      "        [1, 2, 3]\n",
      "    x_index_1 : Dim=0, Dimen=1, Size=4, Domain=None, Ordered=False, Bounds=(1, 4)\n",
      "        [1, 2, 3, 4]\n",
      "    y_index : Dim=0, Dimen=1, Size=3, Domain=None, Ordered=False, Bounds=(1, 3)\n",
      "        [1, 2, 3]\n",
      "\n",
      "2 Var Declarations\n",
      "    x : Size=12, Index=x_index\n",
      "        Key    : Lower : Value : Upper : Fixed : Stale : Domain\n",
      "        (1, 1) :   0.0 :  None :   1.0 : False :  True :  Reals\n",
      "        (1, 2) :   0.0 :  None :   1.0 : False :  True :  Reals\n",
      "        (1, 3) :   0.0 :  None :   1.0 : False :  True :  Reals\n",
      "        (1, 4) :   0.0 :  None :   1.0 : False :  True :  Reals\n",
      "        (2, 1) :   0.0 :  None :   1.0 : False :  True :  Reals\n",
      "        (2, 2) :   0.0 :  None :   1.0 : False :  True :  Reals\n",
      "        (2, 3) :   0.0 :  None :   1.0 : False :  True :  Reals\n",
      "        (2, 4) :   0.0 :  None :   1.0 : False :  True :  Reals\n",
      "        (3, 1) :   0.0 :  None :   1.0 : False :  True :  Reals\n",
      "        (3, 2) :   0.0 :  None :   1.0 : False :  True :  Reals\n",
      "        (3, 3) :   0.0 :  None :   1.0 : False :  True :  Reals\n",
      "        (3, 4) :   0.0 :  None :   1.0 : False :  True :  Reals\n",
      "    y : Size=3, Index=y_index\n",
      "        Key : Lower : Value : Upper : Fixed : Stale : Domain\n",
      "          1 :     0 :  None :     1 : False :  True : Binary\n",
      "          2 :     0 :  None :     1 : False :  True : Binary\n",
      "          3 :     0 :  None :     1 : False :  True : Binary\n",
      "\n",
      "1 Objective Declarations\n",
      "    obj : Size=1, Index=None, Active=True\n",
      "        Key  : Active : Sense    : Expression\n",
      "        None :   True : minimize : 1.7*x[1,1] + 7.2*x[1,2] + 9.0*x[1,3] + 8.3*x[1,4] + 2.9*x[2,1] + 6.3*x[2,2] + 9.8*x[2,3] + 0.7*x[2,4] + 4.5*x[3,1] + 4.8*x[3,2] + 4.2*x[3,3] + 9.3*x[3,4]\n",
      "\n",
      "3 Constraint Declarations\n",
      "    bound_y : Size=12, Index=bound_y_index, Active=True\n",
      "        Key : Lower : Body          : Upper : Active\n",
      "          1 :  -Inf : x[1,1] - y[1] :   0.0 :   True\n",
      "          2 :  -Inf : x[1,2] - y[1] :   0.0 :   True\n",
      "          3 :  -Inf : x[1,3] - y[1] :   0.0 :   True\n",
      "          4 :  -Inf : x[1,4] - y[1] :   0.0 :   True\n",
      "          5 :  -Inf : x[2,1] - y[2] :   0.0 :   True\n",
      "          6 :  -Inf : x[2,2] - y[2] :   0.0 :   True\n",
      "          7 :  -Inf : x[2,3] - y[2] :   0.0 :   True\n",
      "          8 :  -Inf : x[2,4] - y[2] :   0.0 :   True\n",
      "          9 :  -Inf : x[3,1] - y[3] :   0.0 :   True\n",
      "         10 :  -Inf : x[3,2] - y[3] :   0.0 :   True\n",
      "         11 :  -Inf : x[3,3] - y[3] :   0.0 :   True\n",
      "         12 :  -Inf : x[3,4] - y[3] :   0.0 :   True\n",
      "    num_facilities : Size=1, Index=None, Active=True\n",
      "        Key  : Lower : Body               : Upper : Active\n",
      "        None :   3.0 : y[1] + y[2] + y[3] :   3.0 :   True\n",
      "    single_x : Size=4, Index=single_x_index, Active=True\n",
      "        Key : Lower : Body                     : Upper : Active\n",
      "          1 :   1.0 : x[1,1] + x[2,1] + x[3,1] :   1.0 :   True\n",
      "          2 :   1.0 : x[1,2] + x[2,2] + x[3,2] :   1.0 :   True\n",
      "          3 :   1.0 : x[1,3] + x[2,3] + x[3,3] :   1.0 :   True\n",
      "          4 :   1.0 : x[1,4] + x[2,4] + x[3,4] :   1.0 :   True\n",
      "\n",
      "12 Declarations: x_index_0 x_index_1 x_index x y_index y obj single_x_index single_x bound_y_index bound_y num_facilities\n"
     ]
    }
   ],
   "source": [
    "model.pprint()"
   ]
  },
  {
   "cell_type": "markdown",
   "metadata": {},
   "source": [
    "# 2.3 Solve Statement"
   ]
  },
  {
   "cell_type": "markdown",
   "metadata": {},
   "source": [
    "Create an instance to solve your model"
   ]
  },
  {
   "cell_type": "code",
   "execution_count": 12,
   "metadata": {
    "collapsed": true
   },
   "outputs": [],
   "source": [
    "instance = model"
   ]
  },
  {
   "cell_type": "markdown",
   "metadata": {},
   "source": [
    "Print your instance details: you should be able to see the details of sets, variables, eqauations "
   ]
  },
  {
   "cell_type": "code",
   "execution_count": 13,
   "metadata": {},
   "outputs": [
    {
     "name": "stdout",
     "output_type": "stream",
     "text": [
      "6 Set Declarations\n",
      "    bound_y_index : Dim=0, Dimen=1, Size=12, Domain=None, Ordered=False, Bounds=None\n",
      "        [1, 2, 3, 4, 5, 6, 7, 8, 9, 10, 11, 12]\n",
      "    single_x_index : Dim=0, Dimen=1, Size=4, Domain=None, Ordered=False, Bounds=None\n",
      "        [1, 2, 3, 4]\n",
      "    x_index : Dim=0, Dimen=2, Size=12, Domain=None, Ordered=False, Bounds=None\n",
      "        Virtual\n",
      "    x_index_0 : Dim=0, Dimen=1, Size=3, Domain=None, Ordered=False, Bounds=(1, 3)\n",
      "        [1, 2, 3]\n",
      "    x_index_1 : Dim=0, Dimen=1, Size=4, Domain=None, Ordered=False, Bounds=(1, 4)\n",
      "        [1, 2, 3, 4]\n",
      "    y_index : Dim=0, Dimen=1, Size=3, Domain=None, Ordered=False, Bounds=(1, 3)\n",
      "        [1, 2, 3]\n",
      "\n",
      "2 Var Declarations\n",
      "    x : Size=12, Index=x_index\n",
      "        Key    : Lower : Value : Upper : Fixed : Stale : Domain\n",
      "        (1, 1) :   0.0 :  None :   1.0 : False :  True :  Reals\n",
      "        (1, 2) :   0.0 :  None :   1.0 : False :  True :  Reals\n",
      "        (1, 3) :   0.0 :  None :   1.0 : False :  True :  Reals\n",
      "        (1, 4) :   0.0 :  None :   1.0 : False :  True :  Reals\n",
      "        (2, 1) :   0.0 :  None :   1.0 : False :  True :  Reals\n",
      "        (2, 2) :   0.0 :  None :   1.0 : False :  True :  Reals\n",
      "        (2, 3) :   0.0 :  None :   1.0 : False :  True :  Reals\n",
      "        (2, 4) :   0.0 :  None :   1.0 : False :  True :  Reals\n",
      "        (3, 1) :   0.0 :  None :   1.0 : False :  True :  Reals\n",
      "        (3, 2) :   0.0 :  None :   1.0 : False :  True :  Reals\n",
      "        (3, 3) :   0.0 :  None :   1.0 : False :  True :  Reals\n",
      "        (3, 4) :   0.0 :  None :   1.0 : False :  True :  Reals\n",
      "    y : Size=3, Index=y_index\n",
      "        Key : Lower : Value : Upper : Fixed : Stale : Domain\n",
      "          1 :     0 :  None :     1 : False :  True : Binary\n",
      "          2 :     0 :  None :     1 : False :  True : Binary\n",
      "          3 :     0 :  None :     1 : False :  True : Binary\n",
      "\n",
      "1 Objective Declarations\n",
      "    obj : Size=1, Index=None, Active=True\n",
      "        Key  : Active : Sense    : Expression\n",
      "        None :   True : minimize : 1.7*x[1,1] + 7.2*x[1,2] + 9.0*x[1,3] + 8.3*x[1,4] + 2.9*x[2,1] + 6.3*x[2,2] + 9.8*x[2,3] + 0.7*x[2,4] + 4.5*x[3,1] + 4.8*x[3,2] + 4.2*x[3,3] + 9.3*x[3,4]\n",
      "\n",
      "3 Constraint Declarations\n",
      "    bound_y : Size=12, Index=bound_y_index, Active=True\n",
      "        Key : Lower : Body          : Upper : Active\n",
      "          1 :  -Inf : x[1,1] - y[1] :   0.0 :   True\n",
      "          2 :  -Inf : x[1,2] - y[1] :   0.0 :   True\n",
      "          3 :  -Inf : x[1,3] - y[1] :   0.0 :   True\n",
      "          4 :  -Inf : x[1,4] - y[1] :   0.0 :   True\n",
      "          5 :  -Inf : x[2,1] - y[2] :   0.0 :   True\n",
      "          6 :  -Inf : x[2,2] - y[2] :   0.0 :   True\n",
      "          7 :  -Inf : x[2,3] - y[2] :   0.0 :   True\n",
      "          8 :  -Inf : x[2,4] - y[2] :   0.0 :   True\n",
      "          9 :  -Inf : x[3,1] - y[3] :   0.0 :   True\n",
      "         10 :  -Inf : x[3,2] - y[3] :   0.0 :   True\n",
      "         11 :  -Inf : x[3,3] - y[3] :   0.0 :   True\n",
      "         12 :  -Inf : x[3,4] - y[3] :   0.0 :   True\n",
      "    num_facilities : Size=1, Index=None, Active=True\n",
      "        Key  : Lower : Body               : Upper : Active\n",
      "        None :   3.0 : y[1] + y[2] + y[3] :   3.0 :   True\n",
      "    single_x : Size=4, Index=single_x_index, Active=True\n",
      "        Key : Lower : Body                     : Upper : Active\n",
      "          1 :   1.0 : x[1,1] + x[2,1] + x[3,1] :   1.0 :   True\n",
      "          2 :   1.0 : x[1,2] + x[2,2] + x[3,2] :   1.0 :   True\n",
      "          3 :   1.0 : x[1,3] + x[2,3] + x[3,3] :   1.0 :   True\n",
      "          4 :   1.0 : x[1,4] + x[2,4] + x[3,4] :   1.0 :   True\n",
      "\n",
      "12 Declarations: x_index_0 x_index_1 x_index x y_index y obj single_x_index single_x bound_y_index bound_y num_facilities\n"
     ]
    }
   ],
   "source": [
    "instance.pprint()"
   ]
  },
  {
   "cell_type": "markdown",
   "metadata": {},
   "source": [
    "Create and optimization object and call the solver"
   ]
  },
  {
   "cell_type": "code",
   "execution_count": 14,
   "metadata": {
    "collapsed": true
   },
   "outputs": [],
   "source": [
    "opt = SolverFactory(\"glpk\")"
   ]
  },
  {
   "cell_type": "markdown",
   "metadata": {},
   "source": [
    "**SOLVER SPECIFIC GAP**\n",
    "<br> <br>\n",
    "**ATTN: EACH SOLVER HAS ITS OWN OPTION SYNTAX, IF NOT SET PROPERLY ERROR WOULD BE RETURNED**"
   ]
  },
  {
   "cell_type": "code",
   "execution_count": 15,
   "metadata": {
    "collapsed": true
   },
   "outputs": [],
   "source": [
    "opt.options[\"mipgap\"] = 0.05\n",
    "#store the results \n",
    "results = opt.solve(instance)"
   ]
  },
  {
   "cell_type": "markdown",
   "metadata": {},
   "source": [
    "Print and display the solver output and the results"
   ]
  },
  {
   "cell_type": "code",
   "execution_count": 16,
   "metadata": {},
   "outputs": [
    {
     "name": "stdout",
     "output_type": "stream",
     "text": [
      "\n",
      "Problem: \n",
      "- Name: unknown\n",
      "  Lower bound: 11.4\n",
      "  Upper bound: 11.4\n",
      "  Number of objectives: 1\n",
      "  Number of constraints: 18\n",
      "  Number of variables: 16\n",
      "  Number of nonzeros: 40\n",
      "  Sense: minimize\n",
      "Solver: \n",
      "- Status: ok\n",
      "  Termination condition: optimal\n",
      "  Statistics: \n",
      "    Branch and bound: \n",
      "      Number of bounded subproblems: 1\n",
      "      Number of created subproblems: 1\n",
      "  Error rc: 0\n",
      "  Time: 0.02306056022644043\n",
      "Solution: \n",
      "- number of solutions: 0\n",
      "  number of solutions displayed: 0\n",
      "\n"
     ]
    }
   ],
   "source": [
    "print(results)"
   ]
  },
  {
   "cell_type": "markdown",
   "metadata": {},
   "source": [
    "The *pprint* statement gives some important information. But using *display* gives us more insights"
   ]
  },
  {
   "cell_type": "code",
   "execution_count": 17,
   "metadata": {},
   "outputs": [
    {
     "name": "stdout",
     "output_type": "stream",
     "text": [
      "Model unknown\n",
      "\n",
      "  Variables:\n",
      "    x : Size=12, Index=x_index\n",
      "        Key    : Lower : Value : Upper : Fixed : Stale : Domain\n",
      "        (1, 1) :   0.0 :   1.0 :   1.0 : False : False :  Reals\n",
      "        (1, 2) :   0.0 :   0.0 :   1.0 : False : False :  Reals\n",
      "        (1, 3) :   0.0 :   0.0 :   1.0 : False : False :  Reals\n",
      "        (1, 4) :   0.0 :   0.0 :   1.0 : False : False :  Reals\n",
      "        (2, 1) :   0.0 :   0.0 :   1.0 : False : False :  Reals\n",
      "        (2, 2) :   0.0 :   0.0 :   1.0 : False : False :  Reals\n",
      "        (2, 3) :   0.0 :   0.0 :   1.0 : False : False :  Reals\n",
      "        (2, 4) :   0.0 :   1.0 :   1.0 : False : False :  Reals\n",
      "        (3, 1) :   0.0 :   0.0 :   1.0 : False : False :  Reals\n",
      "        (3, 2) :   0.0 :   1.0 :   1.0 : False : False :  Reals\n",
      "        (3, 3) :   0.0 :   1.0 :   1.0 : False : False :  Reals\n",
      "        (3, 4) :   0.0 :   0.0 :   1.0 : False : False :  Reals\n",
      "    y : Size=3, Index=y_index\n",
      "        Key : Lower : Value : Upper : Fixed : Stale : Domain\n",
      "          1 :     0 :   1.0 :     1 : False : False : Binary\n",
      "          2 :     0 :   1.0 :     1 : False : False : Binary\n",
      "          3 :     0 :   1.0 :     1 : False : False : Binary\n",
      "\n",
      "  Objectives:\n",
      "    obj : Size=1, Index=None, Active=True\n",
      "        Key  : Active : Value\n",
      "        None :   True : 11.399999999999999\n",
      "\n",
      "  Constraints:\n",
      "    single_x : Size=4\n",
      "        Key : Lower : Body : Upper\n",
      "          1 :   1.0 :  1.0 :   1.0\n",
      "          2 :   1.0 :  1.0 :   1.0\n",
      "          3 :   1.0 :  1.0 :   1.0\n",
      "          4 :   1.0 :  1.0 :   1.0\n",
      "    bound_y : Size=12\n",
      "        Key : Lower : Body : Upper\n",
      "          1 :  None :  0.0 :   0.0\n",
      "          2 :  None : -1.0 :   0.0\n",
      "          3 :  None : -1.0 :   0.0\n",
      "          4 :  None : -1.0 :   0.0\n",
      "          5 :  None : -1.0 :   0.0\n",
      "          6 :  None : -1.0 :   0.0\n",
      "          7 :  None : -1.0 :   0.0\n",
      "          8 :  None :  0.0 :   0.0\n",
      "          9 :  None : -1.0 :   0.0\n",
      "         10 :  None :  0.0 :   0.0\n",
      "         11 :  None :  0.0 :   0.0\n",
      "         12 :  None : -1.0 :   0.0\n",
      "    num_facilities : Size=1\n",
      "        Key  : Lower : Body : Upper\n",
      "        None :   3.0 :  3.0 :   3.0\n"
     ]
    }
   ],
   "source": [
    "instance.display()"
   ]
  },
  {
   "cell_type": "markdown",
   "metadata": {},
   "source": [
    "**ATTN: ALWAYS CHECK YOUR SOLVER STATUS**"
   ]
  },
  {
   "cell_type": "code",
   "execution_count": 18,
   "metadata": {},
   "outputs": [
    {
     "name": "stdout",
     "output_type": "stream",
     "text": [
      "Optimality is Achevied\n"
     ]
    }
   ],
   "source": [
    "if (results.solver.status == SolverStatus.ok) and (results.solver.termination_condition == TerminationCondition.optimal):\n",
    "    print(\"Optimality is Achevied\")# Do something when the solution in optimal and feasible\n",
    "elif (results.solver.termination_condition == TerminationCondition.infeasible):\n",
    "    print(\"Model is infeasible\")\n",
    "else:\n",
    "    # Something else is wrong\n",
    "    print (\"Solver Status: \",  results.solver.status)"
   ]
  },
  {
   "cell_type": "markdown",
   "metadata": {},
   "source": [
    "## 2.4 Output solution"
   ]
  },
  {
   "cell_type": "code",
   "execution_count": 19,
   "metadata": {},
   "outputs": [
    {
     "name": "stdout",
     "output_type": "stream",
     "text": [
      "The objective function value is  11.399999999999999\n"
     ]
    }
   ],
   "source": [
    "print(\"The objective function value is \", value(instance.obj))"
   ]
  },
  {
   "cell_type": "markdown",
   "metadata": {},
   "source": [
    "Here, you can retrieve all your variables"
   ]
  },
  {
   "cell_type": "code",
   "execution_count": 20,
   "metadata": {},
   "outputs": [
    {
     "name": "stdout",
     "output_type": "stream",
     "text": [
      "Variable x\n",
      "x[1,1] (1, 1) 1.0\n",
      "x[1,2] (1, 2) 0.0\n",
      "x[1,3] (1, 3) 0.0\n",
      "x[1,4] (1, 4) 0.0\n",
      "x[2,1] (2, 1) 0.0\n",
      "x[2,2] (2, 2) 0.0\n",
      "x[2,3] (2, 3) 0.0\n",
      "x[2,4] (2, 4) 1.0\n",
      "x[3,1] (3, 1) 0.0\n",
      "x[3,2] (3, 2) 1.0\n",
      "x[3,3] (3, 3) 1.0\n",
      "x[3,4] (3, 4) 0.0\n",
      "Variable y\n",
      "y[1] 1 1.0\n",
      "y[2] 2 1.0\n",
      "y[3] 3 1.0\n"
     ]
    }
   ],
   "source": [
    "for v in instance.component_objects(Var, active=True):\n",
    "    print (\"Variable\",v.name)\n",
    "    varobject = getattr(instance, str(v))\n",
    "    for index in varobject:\n",
    "        print(varobject[index].name,index, varobject[index].value,)"
   ]
  },
  {
   "cell_type": "markdown",
   "metadata": {},
   "source": [
    "Print a variable by index"
   ]
  },
  {
   "cell_type": "code",
   "execution_count": 21,
   "metadata": {},
   "outputs": [
    {
     "name": "stdout",
     "output_type": "stream",
     "text": [
      "Variable X[1,2] has the value of  0.0\n"
     ]
    }
   ],
   "source": [
    "print(\"Variable X[1,2] has the value of \",instance.x[1,2].value)"
   ]
  },
  {
   "cell_type": "markdown",
   "metadata": {},
   "source": [
    "Store your variables in lists"
   ]
  },
  {
   "cell_type": "code",
   "execution_count": 22,
   "metadata": {},
   "outputs": [
    {
     "name": "stdout",
     "output_type": "stream",
     "text": [
      "Variable x\n",
      "Variable y\n"
     ]
    }
   ],
   "source": [
    "varlist = []\n",
    "indexlist = []\n",
    "\n",
    "for v in instance.component_objects(Var, active=True):\n",
    "    print (\"Variable\",v.name)\n",
    "    varobject = getattr(instance, str(v))\n",
    "    for index in varobject:\n",
    "        varlist.append( varobject[index].value)\n",
    "        indexlist.append(index)"
   ]
  },
  {
   "cell_type": "markdown",
   "metadata": {},
   "source": [
    "Save variables and indices as a CSV file"
   ]
  },
  {
   "cell_type": "code",
   "execution_count": 23,
   "metadata": {
    "collapsed": true
   },
   "outputs": [],
   "source": [
    "result_series = pd.Series(varlist,index=indexlist)\n",
    "result_series.to_csv('my_results.csv')"
   ]
  }
 ],
 "metadata": {
  "kernelspec": {
   "display_name": "Python 3",
   "language": "python",
   "name": "python3"
  },
  "language_info": {
   "codemirror_mode": {
    "name": "ipython",
    "version": 3
   },
   "file_extension": ".py",
   "mimetype": "text/x-python",
   "name": "python",
   "nbconvert_exporter": "python",
   "pygments_lexer": "ipython3",
   "version": "3.6.1"
  }
 },
 "nbformat": 4,
 "nbformat_minor": 2
}
